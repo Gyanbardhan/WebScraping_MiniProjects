{
 "cells": [
  {
   "cell_type": "code",
   "execution_count": 2,
   "id": "99a40e64-aaa5-4047-8b95-79f07bc708c9",
   "metadata": {},
   "outputs": [],
   "source": [
    "from selenium import webdriver\n",
    "from selenium.webdriver.chrome.service import Service"
   ]
  },
  {
   "cell_type": "code",
   "execution_count": 24,
   "id": "1a0a8f96-23c0-47ef-9735-72cca1176cd4",
   "metadata": {},
   "outputs": [
    {
     "data": {
      "text/plain": [
       "True"
      ]
     },
     "execution_count": 24,
     "metadata": {},
     "output_type": "execute_result"
    }
   ],
   "source": [
    "import time\n",
    "from selenium.webdriver.common.keys import Keys\n",
    "s=Service(\"C:/Users/gyanb/Downloads/chromedriver-win64/chromedriver.exe\")\n",
    "driver=webdriver.Chrome(service=s)\n",
    "driver.get(\"https://www.google.com/search?q=flipkart&oq=flipkart&gs_lcrp=EgZjaHJvbWUyBggAEEUYOdIBCDM0NDlqMGo5qAIAsAIA&sourceid=chrome&ie=UTF-8\")\n",
    "time.sleep(5)\n",
    "#driver.find_element_by_xpath(\"\"\"/html/body/div[5]/div/div[10]/div[1]/div[2]/div[2]/div/div/div[1]/div/div/div/div/div/div/div[1]/div/span/a\"\"\").click()\n",
    "#time.sleep(2)\n",
    "#driver.find_element_by_xpath(\"\"\"/html/body/div[3]/div/span\"\"\").click()\n",
    "search=driver.find_element_by_xpath(\"\"\"/html/body/div[5]/div/div[9]/div[1]/div[2]/div[2]/div/div/div[1]/div/div/div/table/tbody/tr[1]/td/form/input[1]\"\"\")\n",
    "search.send_keys(\"Watch\")\n",
    "search.send_keys(Keys.ENTER)\n",
    "time.sleep(2)\n",
    "driver.save_screenshot(\"C:/Users/gyanb/OneDrive/Desktop/Python/WebScraping/All_watches.png\")\n",
    "driver.find_element_by_xpath(\"\"\"/html/body/div/div/div[3]/div[1]/div[2]/div[2]/div\"\"\").screenshot(\"C:/Users/gyanb/OneDrive/Desktop/Python/WebScraping/Watches.png\")"
   ]
  },
  {
   "cell_type": "code",
   "execution_count": null,
   "id": "54643e48-8bd9-4edb-81cb-28bd81b56157",
   "metadata": {},
   "outputs": [],
   "source": []
  }
 ],
 "metadata": {
  "kernelspec": {
   "display_name": "Python 3 (ipykernel)",
   "language": "python",
   "name": "python3"
  },
  "language_info": {
   "codemirror_mode": {
    "name": "ipython",
    "version": 3
   },
   "file_extension": ".py",
   "mimetype": "text/x-python",
   "name": "python",
   "nbconvert_exporter": "python",
   "pygments_lexer": "ipython3",
   "version": "3.12.0"
  }
 },
 "nbformat": 4,
 "nbformat_minor": 5
}
