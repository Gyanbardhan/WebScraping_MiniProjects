{
 "cells": [
  {
   "cell_type": "code",
   "execution_count": 2,
   "id": "39f5d485-ce61-4cf0-9f84-22f27705c0ce",
   "metadata": {},
   "outputs": [],
   "source": [
    "from selenium import webdriver\n",
    "from selenium.webdriver.chrome.service import Service"
   ]
  },
  {
   "cell_type": "code",
   "execution_count": 6,
   "id": "d67d34c8-ba52-40ad-a59a-de3fcf8051db",
   "metadata": {},
   "outputs": [
    {
     "data": {
      "text/plain": [
       "True"
      ]
     },
     "execution_count": 6,
     "metadata": {},
     "output_type": "execute_result"
    }
   ],
   "source": [
    "s=Service(\"C:/Users/gyanb/Downloads/chromedriver-win64/chromedriver.exe\")\n",
    "driver=webdriver.Chrome(service=s)\n",
    "driver.get(\"https://www.flipkart.com/search?q=mobiles+under+50000&otracker=search&otracker1=search&marketplace=FLIPKART&as-show=on&as=off&as-pos=1&as-type=HISTORY\")\n",
    "import time\n",
    "time.sleep(2)\n",
    "driver.save_screenshot(\"C:/Users/gyanb/OneDrive/Desktop/Python/WebScraping/flipkart_mobiles_under_50000.png\")"
   ]
  },
  {
   "cell_type": "code",
   "execution_count": 7,
   "id": "88843c3b-2196-47b9-9bf4-a94a45451490",
   "metadata": {},
   "outputs": [
    {
     "name": "stderr",
     "output_type": "stream",
     "text": [
      "C:\\Users\\gyanb\\AppData\\Roaming\\Python\\Python312\\site-packages\\selenium\\webdriver\\remote\\webdriver.py:483: UserWarning: find_element_by_* commands are deprecated. Please use find_element() instead\n",
      "  warnings.warn(\"find_element_by_* commands are deprecated. Please use find_element() instead\")\n"
     ]
    },
    {
     "data": {
      "text/plain": [
       "True"
      ]
     },
     "execution_count": 7,
     "metadata": {},
     "output_type": "execute_result"
    }
   ],
   "source": [
    "s=Service(\"C:/Users/gyanb/Downloads/chromedriver-win64/chromedriver.exe\")\n",
    "driver=webdriver.Chrome(service=s)\n",
    "driver.get(\"https://www.flipkart.com/search?q=mobiles+under+50000&otracker=search&otracker1=search&marketplace=FLIPKART&as-show=on&as=off&as-pos=1&as-type=HISTORY\")\n",
    "import time\n",
    "time.sleep(2)\n",
    "driver.find_element_by_xpath(\"\"\"/html/body/div/div/div[3]/div[1]/div[2]/div[2]/div/div/div/a\"\"\").screenshot(\"C:/Users/gyanb/OneDrive/Desktop/Python/WebScraping/first_mobile.png\")"
   ]
  },
  {
   "cell_type": "code",
   "execution_count": null,
   "id": "3f07cb74-6e3b-4992-af00-3a1df884e467",
   "metadata": {},
   "outputs": [],
   "source": []
  }
 ],
 "metadata": {
  "kernelspec": {
   "display_name": "Python 3 (ipykernel)",
   "language": "python",
   "name": "python3"
  },
  "language_info": {
   "codemirror_mode": {
    "name": "ipython",
    "version": 3
   },
   "file_extension": ".py",
   "mimetype": "text/x-python",
   "name": "python",
   "nbconvert_exporter": "python",
   "pygments_lexer": "ipython3",
   "version": "3.12.0"
  }
 },
 "nbformat": 4,
 "nbformat_minor": 5
}
