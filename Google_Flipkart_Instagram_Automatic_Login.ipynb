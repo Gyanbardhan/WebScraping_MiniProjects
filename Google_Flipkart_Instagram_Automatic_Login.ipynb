{
 "cells": [
  {
   "cell_type": "code",
   "execution_count": 29,
   "id": "566f2950-8aef-4a24-a325-3b09ffdda3af",
   "metadata": {},
   "outputs": [],
   "source": [
    "from selenium import webdriver\n",
    "from selenium.webdriver.chrome.service import Service"
   ]
  },
  {
   "cell_type": "code",
   "execution_count": 32,
   "id": "e7de27af-6b8a-44cc-a966-29696013bf84",
   "metadata": {},
   "outputs": [],
   "source": [
    "s=Service(\"C:/Users/gyanb/Downloads/chromedriver-win64/chromedriver.exe\")\n",
    "driver=webdriver.Chrome(service=s)\n",
    "driver.get(\"https://www.google.com/\")\n",
    "driver.find_element_by_xpath(\"\"\"/html/body/div[1]/div[1]/div/div/div/div/div[2]/a\"\"\").click()"
   ]
  },
  {
   "cell_type": "code",
   "execution_count": 56,
   "id": "449610fb-ea5d-41e6-99fc-75cb2aed7fa3",
   "metadata": {},
   "outputs": [],
   "source": [
    "import time\n",
    "s=Service(\"C:/Users/gyanb/Downloads/chromedriver-win64/chromedriver.exe\")\n",
    "driver=webdriver.Chrome(service=s)\n",
    "driver.get(\"https://www.flipkart.com/search?q=mobile%205g&otracker=search&otracker1=search&marketplace=FLIPKART&as-show=on&as=off\")\n",
    "time.sleep(2)\n",
    "driver.find_element_by_xpath(\"\"\"/html/body/div/div/div[3]/div[1]/div[2]/div[26]/div/div/nav/a[11]\"\"\").click()\n",
    "time.sleep(2)\n",
    "driver.find_element_by_xpath(\"\"\"/html/body/div/div/div[1]/div[1]/div[2]/div[4]/a\"\"\").click()\n",
    "time.sleep(2)\n",
    "driver.find_element_by_xpath(\"\"\"/html/body/div/div/div[2]/div/div/ul/li[5]/a\"\"\").click()\n",
    "time.sleep(2)\n",
    "driver.find_element_by_xpath(\"\"\"/html/body/div/div/div[2]/div/div/ul/li[2]/a\"\"\").click()"
   ]
  },
  {
   "cell_type": "code",
   "execution_count": 82,
   "id": "3d4430b3-278d-4a93-91c4-0d28b1c608dc",
   "metadata": {},
   "outputs": [],
   "source": [
    "s=Service(\"C:/Users/gyanb/Downloads/chromedriver-win64/chromedriver.exe\")\n",
    "driver=webdriver.Chrome(service=s)\n",
    "driver.get(\"https://www.instagram.com/\")\n",
    "time.sleep(2)\n",
    "ph_no=driver.find_element_by_xpath(\"\"\"/html/body/div[2]/div/div/div[2]/div/div/div/div[1]/section/main/article/div[2]/div[1]/div[2]/form/div/div[1]/div/label/input\"\"\")\n",
    "#time.sleep(2)\n",
    "#driver.find_element_by_xpath(\"\"\"\"\"\")\n",
    "ph_no.send_keys(\"user_name\")\n",
    "time.sleep(1)\n",
    "ps_wd=driver.find_element_by_xpath(\"\"\"/html/body/div[2]/div/div/div[2]/div/div/div/div[1]/section/main/article/div[2]/div[1]/div[2]/form/div/div[2]/div/label/input\"\"\")\n",
    "ps_wd.send_keys(\"********\")\n",
    "time.sleep(1)\n",
    "driver.find_element_by_xpath(\"\"\"/html/body/div[2]/div/div/div[2]/div/div/div/div[1]/section/main/article/div[2]/div[1]/div[2]/form/div/div[3]/button\"\"\").click()\n",
    "time.sleep(6)\n",
    "driver.find_element_by_xpath(\"\"\"/html/body/div[2]/div/div/div[2]/div/div/div/div[1]/div[1]/div[2]/section/main/div/div/div/div/div\"\"\").click()\n",
    "#time.sleep(10)\n",
    "#driver.find_element_by_xpath(\"\"\"/html/body/div[5]/div[1]/div/div[2]/div/div/div/div/div[2]/div/div/div[3]/button[1]\"\"\").click()\n",
    "#time.sleep(4)\n",
    "#driver.find_element_by_xpath(\"\"\"/html/body/div[2]/div/div/div[2]/div/div/div/div[1]/div[1]/div[1]/div/div/div/div/div[2]/div[2]/span/div/a/div/div[1]/div/div/svg\"\"\").click()"
   ]
  },
  {
   "cell_type": "code",
   "execution_count": null,
   "id": "220a45be-6bc2-456b-a532-48c5aea0f6f8",
   "metadata": {},
   "outputs": [],
   "source": []
  }
 ],
 "metadata": {
  "kernelspec": {
   "display_name": "Python 3 (ipykernel)",
   "language": "python",
   "name": "python3"
  },
  "language_info": {
   "codemirror_mode": {
    "name": "ipython",
    "version": 3
   },
   "file_extension": ".py",
   "mimetype": "text/x-python",
   "name": "python",
   "nbconvert_exporter": "python",
   "pygments_lexer": "ipython3",
   "version": "3.12.0"
  }
 },
 "nbformat": 4,
 "nbformat_minor": 5
}
